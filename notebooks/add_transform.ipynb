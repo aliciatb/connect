{
 "cells": [
  {
   "cell_type": "markdown",
   "metadata": {},
   "source": [
    "## Exercise 4. Add a Transform\n",
    "Let's use [Socrata-py](https://github.com/socrata/socrata-py#transforming-your-data) to apply formatting to the dataset columns for https://alicia.data.socrata.com/dataset/Arizona-Places-Median-Household-Income/9abs-ubh5.\n",
    "\n",
    "- Title Case geography type\n",
    "\n",
    "## Import Libraries"
   ]
  },
  {
   "cell_type": "code",
   "execution_count": 8,
   "metadata": {},
   "outputs": [],
   "source": [
    "import json\n",
    "import os\n",
    "import pandas as pd\n",
    "import requests\n",
    "\n",
    "from socrata.authorization import Authorization\n",
    "from socrata import Socrata"
   ]
  },
  {
   "cell_type": "markdown",
   "metadata": {},
   "source": [
    "## Setup Authentication\n",
    "- Can enter Socrata user name and password or [api keys](https://socrataapikeys.docs.apiary.io) with key id and secret values respectively\n",
    "- Enter the domain of dataset if you have publisher or admin access\n",
    "- Enter the dataset unique ID"
   ]
  },
  {
   "cell_type": "code",
   "execution_count": 9,
   "metadata": {},
   "outputs": [],
   "source": [
    "# replace environmement variables with your credentials on lab machines\n",
    "domain = 'alicia.data.socrata.com'\n",
    "user_name = os.environ['SOCRATA_KEY_ID']\n",
    "password = os.environ['SOCRATA_KEY_SECRET']\n",
    "dataset_id = '9abs-ubh5'\n",
    "\n",
    "auth = Authorization(\n",
    "  domain,\n",
    "  user_name,\n",
    "  password\n",
    ")\n",
    "\n",
    "socrata = Socrata(auth)"
   ]
  },
  {
   "cell_type": "markdown",
   "metadata": {},
   "source": [
    "## Title Case\n",
    "- Apply [title_case()](https://dev.socrata.com/docs/transforms/title_case.html) to Geography Type field"
   ]
  },
  {
   "cell_type": "code",
   "execution_count": 11,
   "metadata": {},
   "outputs": [
    {
     "data": {
      "text/plain": [
       "(True, Job({'created_at': '2019-03-28T19:56:42.530851Z',\n",
       "  'created_by': {'display_name': 'Alicia Brown',\n",
       "                 'email': 'alicia.brown@socrata.com',\n",
       "                 'user_id': '7krv-k7t3'},\n",
       "  'finished_at': None,\n",
       "  'id': 343699,\n",
       "  'is_edit': True,\n",
       "  'job_uuid': 'b5b78235-23d8-4d31-ac56-e4b51a05ce44',\n",
       "  'log': [],\n",
       "  'output_schema_id': 547575,\n",
       "  'request_id': 'e72a1fa465998c216daad2d71cc7fd2a',\n",
       "  'status': 'initializing',\n",
       "  'updated_at': '2019-03-28T19:56:42.530861Z'}))"
      ]
     },
     "execution_count": 11,
     "metadata": {},
     "output_type": "execute_result"
    }
   ],
   "source": [
    "# make the change to Denominator column to be a number\n",
    "(ok, view) = socrata.views.lookup(dataset_id)\n",
    "assert ok, view\n",
    "\n",
    "(ok, revision) = view.revisions.create_replace_revision()\n",
    "assert ok, revision\n",
    "\n",
    "(ok, source) = revision.source_from_dataset()\n",
    "assert ok, source\n",
    "\n",
    "output_schema = source.get_latest_input_schema().get_latest_output_schema()\n",
    "\n",
    "# use \n",
    "(ok, new_output_schema) = output_schema\\\n",
    "    .change_column_transform('type').to('title_case(`type`)').run()\n",
    "\n",
    "revision.apply(output_schema = new_output_schema)"
   ]
  },
  {
   "cell_type": "markdown",
   "metadata": {},
   "source": [
    "## Replace Estimate Errors\n",
    "- Apply [case()](https://dev.socrata.com/docs/transforms/case.html) to Value Field that were not estimated for a given year and geography per Annotation by Census\n",
    "- Setting these estimation errors with values of `-666,666,666` to an empty string and then applying [forgive](https://dev.socrata.com/docs/transforms/forgive.html) because we don't want to replace missing values with zero"
   ]
  },
  {
   "cell_type": "code",
   "execution_count": 20,
   "metadata": {},
   "outputs": [
    {
     "data": {
      "text/plain": [
       "(True, Job({'created_at': '2019-03-28T20:01:25.488699Z',\n",
       "  'created_by': {'display_name': 'Alicia Brown',\n",
       "                 'email': 'alicia.brown@socrata.com',\n",
       "                 'user_id': '7krv-k7t3'},\n",
       "  'finished_at': None,\n",
       "  'id': 343710,\n",
       "  'is_edit': True,\n",
       "  'job_uuid': 'b275aa40-6cb0-4819-a96b-af4dff07837a',\n",
       "  'log': [],\n",
       "  'output_schema_id': 547655,\n",
       "  'request_id': 'dde2b66496ed66cc3ddbf1e32c7d6d3c',\n",
       "  'status': 'initializing',\n",
       "  'updated_at': '2019-03-28T20:01:25.488711Z'}))"
      ]
     },
     "execution_count": 20,
     "metadata": {},
     "output_type": "execute_result"
    }
   ],
   "source": [
    "# make the change to Denominator column to be a number\n",
    "(ok, view) = socrata.views.lookup(dataset_id)\n",
    "assert ok, view\n",
    "\n",
    "(ok, revision) = view.revisions.create_replace_revision()\n",
    "assert ok, revision\n",
    "\n",
    "(ok, source) = revision.source_from_dataset()\n",
    "assert ok, source\n",
    "\n",
    "output_schema = source.get_latest_input_schema().get_latest_output_schema()\n",
    "\n",
    "# use \n",
    "(ok, new_output_schema) = output_schema\\\n",
    "    .change_column_transform(\"value\").to(\"case(`value` < 0, forgive(to_number('')), true, `value`)\").run()\n",
    "\n",
    "revision.apply(output_schema = new_output_schema)"
   ]
  },
  {
   "cell_type": "code",
   "execution_count": null,
   "metadata": {},
   "outputs": [],
   "source": []
  }
 ],
 "metadata": {
  "kernelspec": {
   "display_name": "Python 3",
   "language": "python",
   "name": "python3"
  },
  "language_info": {
   "codemirror_mode": {
    "name": "ipython",
    "version": 3
   },
   "file_extension": ".py",
   "mimetype": "text/x-python",
   "name": "python",
   "nbconvert_exporter": "python",
   "pygments_lexer": "ipython3",
   "version": "3.7.0"
  }
 },
 "nbformat": 4,
 "nbformat_minor": 2
}
