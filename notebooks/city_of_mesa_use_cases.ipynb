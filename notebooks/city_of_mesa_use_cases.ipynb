{
 "cells": [
  {
   "cell_type": "markdown",
   "metadata": {},
   "source": [
    "### (WORK IN PROGRESS) \n",
    "# City of Mesa - Python API Use Cases"
   ]
  },
  {
   "cell_type": "markdown",
   "metadata": {},
   "source": [
    "***\n",
    "## Use Case #1 - Use Discovery API to get public dataset count"
   ]
  },
  {
   "cell_type": "code",
   "execution_count": 11,
   "metadata": {},
   "outputs": [],
   "source": [
    "# Import libraries\n",
    "import requests"
   ]
  },
  {
   "cell_type": "code",
   "execution_count": 6,
   "metadata": {},
   "outputs": [],
   "source": [
    "# Define a re-usable method to return City of Mesa's public dataset count\n",
    "def com_get_public_dataset_count():\n",
    "\n",
    "    # Discovery API endpoint for domains\n",
    "    endpoint = 'http://api.us.socrata.com/api/catalog/v1/domains'\n",
    "    \n",
    "    # City of Mesa domain on Socrata\n",
    "    domain = 'data.mesaaz.gov'\n",
    "    \n",
    "    # Build the endpoint url for pulling datasets only\n",
    "    url = endpoint + '?domains=' + domain + '&only=datasets'\n",
    "    \n",
    "    # Make the call to the Discovery endpoint \n",
    "    response = requests.get(url)\n",
    "    \n",
    "    # Parse the response for the count and return the value\n",
    "    return response.json().get(\"results\",[{}])[0].get(\"count\",\"\")\n"
   ]
  },
  {
   "cell_type": "code",
   "execution_count": 19,
   "metadata": {},
   "outputs": [
    {
     "name": "stdout",
     "output_type": "stream",
     "text": [
      "92\n"
     ]
    }
   ],
   "source": [
    "# Test the method!\n",
    "print(com_get_public_dataset_count())"
   ]
  },
  {
   "cell_type": "markdown",
   "metadata": {},
   "source": [
    "### Let's use Bokeh to chart the count\n",
    "https://s3.amazonaws.com/assets.datacamp.com/blog_assets/Python_Bokeh_Cheat_Sheet.pdf"
   ]
  },
  {
   "cell_type": "code",
   "execution_count": 10,
   "metadata": {},
   "outputs": [],
   "source": [
    "# Bokeh imports\n",
    "from bokeh.plotting import figure, show\n",
    "from bokeh.io import output_notebook"
   ]
  },
  {
   "cell_type": "code",
   "execution_count": null,
   "metadata": {},
   "outputs": [],
   "source": [
    "# Tell Bokeh to output the chart to the notebook\n",
    "output_notebook()"
   ]
  },
  {
   "cell_type": "code",
   "execution_count": null,
   "metadata": {},
   "outputs": [],
   "source": [
    "# Set the x and y values where y is our count\n",
    "x = ['Count']\n",
    "y = [com_get_public_dataset_count()]\n",
    "# Create a Bokeh figure including our count in the title\n",
    "p = figure(x_range=x, plot_height=200, title='Dataset Count = ' + str(y))\n",
    "# Set x and y into the figure as a vertical bar\n",
    "p.vbar(x=x, top=y, width=0.5)\n",
    "# Increase title size so we can see it\n",
    "p.title.text_font_size = '12pt'\n",
    "# Show the figure!\n",
    "show(p)"
   ]
  },
  {
   "cell_type": "markdown",
   "metadata": {},
   "source": [
    "***\n",
    "## Use Case #2 - Use Metadata API to Copy Metadata Between Datasets\n",
    "\n",
    "* The City of Mesa has 2 Socrata sites: Public and Internal\n",
    "* We use the Metadata API to copy dataset Metadata between datasets on one site or between sites\n",
    "\n",
    "### See Exercise #2 in this lab for sample code. \n"
   ]
  },
  {
   "cell_type": "markdown",
   "metadata": {},
   "source": [
    "\n",
    "***\n",
    "## Use Case #3 - Use Discovery, Metadata, and SODA API to check for invalid dates"
   ]
  },
  {
   "cell_type": "code",
   "execution_count": 23,
   "metadata": {},
   "outputs": [],
   "source": [
    "resource_endpoint = 'https://data.mesaaz.gov/resource/'\n",
    "user_name = os.environ['MY_SOCRATA_USERNAME']\n",
    "password = os.environ['MY_SOCRATA_PASSWORD']\n"
   ]
  },
  {
   "cell_type": "code",
   "execution_count": 24,
   "metadata": {},
   "outputs": [],
   "source": [
    "# Discovery API to get list of public datasets (only look at first 5 for demo)\n",
    "url = 'http://api.us.socrata.com/api/catalog/v1?domains=data.mesaaz.gov&only=datasets&limit=5'\n",
    "response = requests.get(url)\n",
    "results = response.json().get(\"results\",[{}])\n",
    "#print(results)"
   ]
  },
  {
   "cell_type": "code",
   "execution_count": 26,
   "metadata": {},
   "outputs": [
    {
     "name": "stdout",
     "output_type": "stream",
     "text": [
      "https://data.mesaaz.gov/resource/24df-s3cy?$select=min(occurred_date)\n",
      "https://data.mesaaz.gov/resource/x78d-vqk4?$select=max(year_month)\n",
      "{'error': True, 'message': 'Internal error', 'status': 500}\n",
      "[{'max_year_month': '2019-03-01T00:00:00.000'}]\n",
      "https://data.mesaaz.gov/resource/24df-s3cy?$select=min(occurred_date)\n",
      "https://data.mesaaz.gov/resource/x78d-vqk4?$select=max(year_month)\n",
      "{'error': True, 'message': 'Internal error', 'status': 500}\n",
      "[{'max_year_month': '2019-03-01T00:00:00.000'}]\n",
      "https://data.mesaaz.gov/resource/24df-s3cy?$select=min(occurred_date)\n",
      "https://data.mesaaz.gov/resource/x78d-vqk4?$select=max(year_month)\n",
      "{'error': True, 'message': 'Internal error', 'status': 500}\n",
      "[{'max_year_month': '2019-03-01T00:00:00.000'}]\n",
      "https://data.mesaaz.gov/resource/24df-s3cy?$select=min(occurred_date)\n",
      "https://data.mesaaz.gov/resource/x78d-vqk4?$select=max(year_month)\n",
      "{'error': True, 'message': 'Internal error', 'status': 500}\n",
      "[{'max_year_month': '2019-03-01T00:00:00.000'}]\n",
      "https://data.mesaaz.gov/resource/24df-s3cy?$select=min(occurred_date)\n",
      "https://data.mesaaz.gov/resource/x78d-vqk4?$select=max(year_month)\n",
      "{'error': True, 'message': 'Internal error', 'status': 500}\n",
      "[{'max_year_month': '2019-03-01T00:00:00.000'}]\n",
      "https://data.mesaaz.gov/resource/24df-s3cy?$select=min(occurred_date)\n",
      "https://data.mesaaz.gov/resource/x78d-vqk4?$select=max(year_month)\n",
      "{'error': True, 'message': 'Internal error', 'status': 500}\n",
      "[{'max_year_month': '2019-03-01T00:00:00.000'}]\n",
      "https://data.mesaaz.gov/resource/24df-s3cy?$select=min(occurred_date)\n",
      "https://data.mesaaz.gov/resource/x78d-vqk4?$select=max(year_month)\n",
      "{'error': True, 'message': 'Internal error', 'status': 500}\n",
      "[{'max_year_month': '2019-03-01T00:00:00.000'}]\n",
      "https://data.mesaaz.gov/resource/24df-s3cy?$select=min(occurred_date)\n",
      "https://data.mesaaz.gov/resource/x78d-vqk4?$select=max(year_month)\n",
      "{'error': True, 'message': 'Internal error', 'status': 500}\n",
      "[{'max_year_month': '2019-03-01T00:00:00.000'}]\n",
      "https://data.mesaaz.gov/resource/24df-s3cy?$select=min(occurred_date)\n",
      "https://data.mesaaz.gov/resource/x78d-vqk4?$select=max(year_month)\n",
      "{'error': True, 'message': 'Internal error', 'status': 500}\n",
      "[{'max_year_month': '2019-03-01T00:00:00.000'}]\n",
      "https://data.mesaaz.gov/resource/24df-s3cy?$select=min(occurred_date)\n",
      "https://data.mesaaz.gov/resource/x78d-vqk4?$select=max(year_month)\n",
      "{'error': True, 'message': 'Internal error', 'status': 500}\n",
      "[{'max_year_month': '2019-03-01T00:00:00.000'}]\n",
      "https://data.mesaaz.gov/resource/24df-s3cy?$select=min(occurred_date)\n",
      "https://data.mesaaz.gov/resource/x78d-vqk4?$select=max(year_month)\n",
      "{'error': True, 'message': 'Internal error', 'status': 500}\n",
      "[{'max_year_month': '2019-03-01T00:00:00.000'}]\n",
      "https://data.mesaaz.gov/resource/24df-s3cy?$select=min(occurred_date)\n",
      "https://data.mesaaz.gov/resource/x78d-vqk4?$select=max(year_month)\n",
      "{'error': True, 'message': 'Internal error', 'status': 500}\n",
      "[{'max_year_month': '2019-03-01T00:00:00.000'}]\n",
      "https://data.mesaaz.gov/resource/24df-s3cy?$select=min(occurred_date)\n",
      "https://data.mesaaz.gov/resource/x78d-vqk4?$select=max(year_month)\n",
      "{'error': True, 'message': 'Internal error', 'status': 500}\n",
      "[{'max_year_month': '2019-03-01T00:00:00.000'}]\n"
     ]
    }
   ],
   "source": [
    "for dataset in results:\n",
    "    dataset_resource = dataset['resource']\n",
    "    dataset_id = dataset_resource.get('id')\n",
    "    dataset_name = dataset_resource.get('name')\n",
    "    column_fields = dataset_resource.get('columns_field_name')\n",
    "    column_types = dataset_resource.get('columns_datatype')\n",
    "    column_dict = dict(zip(column_fields, column_types))\n",
    "    for k,v in column_dict.items():\n",
    "        if v == 'calendar_date':\n",
    "            # Using SoQL, get the min and max value of the date\n",
    "            #min_url = resource_endpoint + dataset_id + '?$select=min(' + k + ')'\n",
    "            #max_url = resource_endpoint + dataset_id + '?$select=max(' + k + ')'\n",
    "            max_url = resource_endpoint + 'x78d-vqk4' + '?$select=max(year_month)'\n",
    "            print (min_url)\n",
    "            print (max_url)\n",
    "            min_response = requests.get(min_url, auth=(user_name,password))\n",
    "            max_response = requests.get(max_url, auth=(user_name,password))\n",
    "            print(min_response.json())\n",
    "            print(max_response.json())\n",
    "            \n"
   ]
  },
  {
   "cell_type": "code",
   "execution_count": 15,
   "metadata": {},
   "outputs": [
    {
     "name": "stdout",
     "output_type": "stream",
     "text": [
      "https://data.mesaaz.gov/api/views/metadata/v1/2gkz-7z4f\n",
      "{'id': '2gkz-7z4f', 'name': 'Building Permits', 'attribution': 'Development Services', 'attributionLink': None, 'category': 'Permits & Licenses', 'createdAt': '2018-01-26T23:41:16+0000', 'dataUpdatedAt': '2019-03-20T16:04:32+0000', 'dataUri': 'https://data.mesaaz.gov/resource/2gkz-7z4f', 'description': 'Building permits issued by City of Mesa. Included: All building permits applied. Not Included: Applications for Documents or Services, Code Compliance Complaints, Planning Cases, or Engineering Projects. It is assumed that all permits have been issued based on meeting all building and zoning codes.', 'domain': 'data.mesaaz.gov', 'externalId': None, 'hideFromCatalog': False, 'hideFromDataJson': False, 'license': 'See Terms of Use', 'metadataUpdatedAt': '2019-02-20T21:46:02+0000', 'provenance': 'OFFICIAL', 'updatedAt': '2019-02-20T21:46:02+0000', 'webUri': 'https://data.mesaaz.gov/d/2gkz-7z4f', 'customFields': {'Terms of Use': {'Terms of Use': 'https://data.mesaaz.gov/stories/s/2dcd-j2nx/'}, 'Frequency': {'Publishing': 'weekly', 'Data Change': 'daily'}}, 'tags': ['building', 'permit', 'construction', 'commercial', 'residential', 'sfr', 'mfr']}\n",
      "https://data.mesaaz.gov/api/views/metadata/v1/ears-rpf9\n",
      "{'id': 'ears-rpf9', 'name': 'Code Violations', 'attribution': 'Development Services', 'attributionLink': None, 'category': 'Neighborhoods', 'createdAt': '2018-01-21T20:33:20+0000', 'dataUpdatedAt': '2019-03-21T19:43:34+0000', 'dataUri': 'https://data.mesaaz.gov/resource/ears-rpf9', 'description': 'This dataset includes both Code Violations as determined by City of Mesa and reported complaints only, but no code violation found. Some data for cases between July 2017- July 2018 is unreliable and is excluded. This dataset does not include the status of the violation except to include the date the violation was closed. Individual up-to-date case status can be found at https://aca.accela.com/mesa/. Also includes violations that were voluntary complied with.  \\n\\nIncluded: Cases opened since Jan 1, 2005 (with one file per calendar year). These cases were found by a City of Mesa Code Officer to be in violation of one or more city or state codes and are denoted by a value of \"N\" in \"Complaint Only\" field. In 2005-2006, the City of Mesa employed 22 Code Officers. Since that time, the number of Code Officers has been reduced to 10. \\n\\nNot Included: Commercial or Residential construction projects, Demolitions, Applications for Documents or Services, Planning Cases, or Engineering Projects.', 'domain': 'data.mesaaz.gov', 'externalId': None, 'hideFromCatalog': False, 'hideFromDataJson': False, 'license': 'See Terms of Use', 'metadataUpdatedAt': '2019-02-25T21:06:54+0000', 'provenance': 'OFFICIAL', 'updatedAt': '2019-02-25T21:06:54+0000', 'webUri': 'https://data.mesaaz.gov/d/ears-rpf9', 'customFields': {'Terms of Use': {'Terms of Use': 'https://data.mesaaz.gov/stories/s/2dcd-j2nx/'}, 'Frequency': {'Publishing': 'weekly', 'Data Change': 'daily'}}, 'tags': ['code', 'compliance', 'violation']}\n",
      "https://data.mesaaz.gov/api/views/metadata/v1/39rt-2rfj\n",
      "{'id': '39rt-2rfj', 'name': 'Police Incidents', 'attribution': 'Police', 'attributionLink': None, 'category': 'Public Safety', 'createdAt': '2018-01-25T19:37:43+0000', 'dataUpdatedAt': '2019-03-18T17:19:40+0000', 'dataUri': 'https://data.mesaaz.gov/resource/39rt-2rfj', 'description': 'Incidents based on initial police reports taken by officers when responding to calls for service. Data is modified for public use. Address and Location are not exact locations of incidents and have been rounded to nearest hundred block. Lat/Long are approximations only based on rounded hundred block. Incidents reported in this dataset may not correlate with 911 Events datasets and calls for Police service. \\r\\n\\r\\nThe City of Mesa does not disclose information that is inflammatory in nature that impacts our citizens. Crimes reported in this data set have not been adjudicated in a court of law for final determination. \\r\\n\\r\\nAlthough sensitive crimes are included, the approximate address are NOT included. Therefore aggregate totals of crimes are accurate, without providing sensitive information. Addresses are not included for: sexual abuse, sexual assault, suicide, incest, molestation of a child or homicide. \\r\\n\\r\\nSimilar information is also provided through the CrimeReports website, a 3rd party service that visually reviews crime data for Mesa and outlining areas. \\r\\n\\r\\nSome of the data fields provided are used to report to the Federal Bureau of Investigation. For a listing of data fields and description please see their UCR Program Data Collections page. Alternatively, please see the Bureau of Justice Statistics NIBRS website for a listing of data fields.', 'domain': 'data.mesaaz.gov', 'externalId': None, 'hideFromCatalog': False, 'hideFromDataJson': False, 'license': 'See Terms of Use', 'metadataUpdatedAt': '2019-03-11T16:38:10+0000', 'provenance': 'OFFICIAL', 'updatedAt': '2019-03-11T16:38:10+0000', 'webUri': 'https://data.mesaaz.gov/d/39rt-2rfj', 'customFields': {'Terms of Use': {'Terms of Use': 'https://data.mesaaz.gov/stories/s/2dcd-j2nx/'}, 'Frequency': {'Publishing': 'Monthly', 'Data Change': 'Daily'}}, 'tags': ['crime', 'police', 'incident', '911', 'pd']}\n",
      "https://data.mesaaz.gov/api/views/metadata/v1/978b-jvw8\n",
      "{'id': '978b-jvw8', 'name': 'Fire and Medical Incidents Dispatched in City of Mesa', 'attribution': 'Fire and Medical', 'attributionLink': None, 'category': 'Public Safety', 'createdAt': '2018-03-22T22:51:10+0000', 'dataUpdatedAt': '2019-03-03T15:26:35+0000', 'dataUri': 'https://data.mesaaz.gov/resource/978b-jvw8', 'description': 'Information about incidents dispatched by Fire & Medical for service within the City of Mesa. All dispatch and response times are based on calls received and dispatched by Mesa Regional Dispatch Center (MRDC) only. Calls to 911 are routed by a 911 Control Office to a primary public safety answering point (PSAP). The primary PSAP for emergency calls in the City of Mesa is Police 911 dispatch. Fire and Medical calls are transferred to the MRDC, a secondary PSAP for dispatch. Call handling and response times in this dataset do not include primary PSAP receive, handle and transfer times. \\r\\n\\r\\nVisit https://www.fcc.gov/general/9-1-1-and-e9-1-1-services and http://www.mesaaz.gov/residents/fire-medical/divisions-sections/dispatch-deployment for more information. Also see http://www.mesaaz.gov/residents/police/divisions/communications/how-does-911-work for additional information about using 911.', 'domain': 'data.mesaaz.gov', 'externalId': None, 'hideFromCatalog': False, 'hideFromDataJson': False, 'license': 'See Terms of Use', 'metadataUpdatedAt': '2018-12-12T19:00:01+0000', 'provenance': 'OFFICIAL', 'updatedAt': '2018-12-12T19:00:01+0000', 'webUri': 'https://data.mesaaz.gov/d/978b-jvw8', 'customFields': {'Terms of Use': {'Terms of Use': 'https://data.mesaaz.gov/stories/s/2dcd-j2nx/'}, 'Frequency': {'Publishing': 'monthly', 'Data Change': 'monthly'}}, 'tags': ['fire', 'medical', 'dispatch', '911', 'response', 'time']}\n",
      "https://data.mesaaz.gov/api/views/metadata/v1/24df-s3cy\n",
      "{'id': '24df-s3cy', 'name': 'Traffic Accidents', 'attribution': 'Police', 'attributionLink': None, 'category': 'Public Safety', 'createdAt': '2018-01-25T14:18:21+0000', 'dataUpdatedAt': '2019-03-18T17:04:35+0000', 'dataUri': 'https://data.mesaaz.gov/resource/24df-s3cy', 'description': 'Traffic accidents reported to Mesa Police Department \\xa0', 'domain': 'data.mesaaz.gov', 'externalId': None, 'hideFromCatalog': False, 'hideFromDataJson': False, 'license': 'See Terms of Use', 'metadataUpdatedAt': '2018-07-24T17:20:03+0000', 'provenance': 'OFFICIAL', 'updatedAt': '2018-07-24T17:20:03+0000', 'webUri': 'https://data.mesaaz.gov/d/24df-s3cy', 'customFields': {'Terms of Use': {'Terms of Use': 'https://data.mesaaz.gov/stories/s/2dcd-j2nx/'}, 'Frequency': {'Publishing': 'monthly', 'Data Change': 'daily'}}, 'tags': ['traffic', 'accidents', 'police', 'street', 'injury', 'vehicle', 'car', 'pd']}\n"
     ]
    }
   ],
   "source": [
    "for dataset in results:\n",
    "    dataset_id = dataset['resource'].get('id')\n",
    "    dataset_url = 'https://data.mesaaz.gov/api/views/metadata/v1/' + dataset_id\n",
    "    print(dataset_url)\n",
    "    dataset_response = requests.get(dataset_url)\n",
    "    dataset_results = dataset_response.json()\n",
    "    print(dataset_results)\n",
    "    "
   ]
  },
  {
   "cell_type": "code",
   "execution_count": null,
   "metadata": {},
   "outputs": [],
   "source": []
  }
 ],
 "metadata": {
  "kernelspec": {
   "display_name": "Python 3",
   "language": "python",
   "name": "python3"
  },
  "language_info": {
   "codemirror_mode": {
    "name": "ipython",
    "version": 3
   },
   "file_extension": ".py",
   "mimetype": "text/x-python",
   "name": "python",
   "nbconvert_exporter": "python",
   "pygments_lexer": "ipython3",
   "version": "3.7.1"
  }
 },
 "nbformat": 4,
 "nbformat_minor": 2
}
