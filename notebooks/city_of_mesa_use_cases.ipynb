{
 "cells": [
  {
   "cell_type": "markdown",
   "metadata": {},
   "source": [
    "### (WORK IN PROGRESS) \n",
    "# City of Mesa - Python API Use Cases"
   ]
  },
  {
   "cell_type": "markdown",
   "metadata": {},
   "source": [
    "***\n",
    "## Use Case #1 - Use Discovery API to get public dataset count"
   ]
  },
  {
   "cell_type": "code",
   "execution_count": 5,
   "metadata": {},
   "outputs": [],
   "source": [
    "# Import libraries\n",
    "import requests"
   ]
  },
  {
   "cell_type": "code",
   "execution_count": 6,
   "metadata": {},
   "outputs": [],
   "source": [
    "# Define a re-usable method to return City of Mesa's public dataset count\n",
    "def com_get_public_dataset_count():\n",
    "\n",
    "    # Discovery API endpoint for domains\n",
    "    endpoint = 'http://api.us.socrata.com/api/catalog/v1/domains'\n",
    "    \n",
    "    # City of Mesa domain on Socrata\n",
    "    domain = 'data.mesaaz.gov'\n",
    "    \n",
    "    # Build the endpoint url for pulling datasets only\n",
    "    url = endpoint + '?domains=' + domain + '&only=datasets'\n",
    "    \n",
    "    # Make the call to the Discovery endpoint \n",
    "    response = requests.get(url)\n",
    "    \n",
    "    # Parse the response for the count and return the value\n",
    "    return response.json().get(\"results\",[{}])[0].get(\"count\",\"\")\n"
   ]
  },
  {
   "cell_type": "code",
   "execution_count": 19,
   "metadata": {},
   "outputs": [
    {
     "name": "stdout",
     "output_type": "stream",
     "text": [
      "92\n"
     ]
    }
   ],
   "source": [
    "# Test the method!\n",
    "print(com_get_public_dataset_count())"
   ]
  },
  {
   "cell_type": "markdown",
   "metadata": {},
   "source": [
    "### Let's use Bokeh to chart the count\n",
    "https://s3.amazonaws.com/assets.datacamp.com/blog_assets/Python_Bokeh_Cheat_Sheet.pdf"
   ]
  },
  {
   "cell_type": "code",
   "execution_count": 10,
   "metadata": {},
   "outputs": [],
   "source": [
    "# Bokeh imports\n",
    "from bokeh.plotting import figure, show\n",
    "from bokeh.io import output_notebook"
   ]
  },
  {
   "cell_type": "code",
   "execution_count": null,
   "metadata": {},
   "outputs": [],
   "source": [
    "# Tell Bokeh to output the chart to the notebook\n",
    "output_notebook()"
   ]
  },
  {
   "cell_type": "code",
   "execution_count": null,
   "metadata": {},
   "outputs": [],
   "source": [
    "# Set the x and y values where y is our count\n",
    "x = ['Count']\n",
    "y = [com_get_public_dataset_count()]\n",
    "# Create a Bokeh figure including our count in the title\n",
    "p = figure(x_range=x, plot_height=200, title='Dataset Count = ' + str(y))\n",
    "# Set x and y into the figure as a vertical bar\n",
    "p.vbar(x=x, top=y, width=0.5)\n",
    "# Increase title size so we can see it\n",
    "p.title.text_font_size = '12pt'\n",
    "# Show the figure!\n",
    "show(p)"
   ]
  },
  {
   "cell_type": "markdown",
   "metadata": {},
   "source": [
    "***\n",
    "## Use Case #2 - Use Metadata API to Copy Metadata Between Datasets"
   ]
  },
  {
   "cell_type": "code",
   "execution_count": 22,
   "metadata": {},
   "outputs": [],
   "source": [
    "# Import libraries\n",
    "import os\n",
    "\n",
    "from socrata.authorization import Authorization\n",
    "from socrata import Socrata\n"
   ]
  },
  {
   "cell_type": "markdown",
   "metadata": {},
   "source": [
    "### Set source and target dataset endpoints"
   ]
  },
  {
   "cell_type": "code",
   "execution_count": 23,
   "metadata": {},
   "outputs": [],
   "source": [
    "# The basic Metadata API endpoint\n",
    "metadata_api = '/api/views/metadata/v1/'\n",
    "\n",
    "# The City of Mesa has 2 Socrata sites and we can copy Metadata amongst and between them.\n",
    "# In this case we will copy Metadata between datasets on the same site - oiur public site. \n",
    "source_url = 'https://data.mesaaz.gov'\n",
    "target_url = 'https://data.mesaaz.gov'\n",
    "\n",
    "# These are the dataset IDs for the source and target datasets\n",
    "source_dataset_id = '6ade-yai9'\n",
    "target_dataset_id = 'dzwq-utu5'\n",
    "\n",
    "# Build the full endpoint urls\n",
    "source_endpoint = source_url + metadata_api + source_dataset_id\n",
    "target_endpoint = target_url + metadata_api + target_dataset_id"
   ]
  },
  {
   "cell_type": "markdown",
   "metadata": {},
   "source": [
    "### Authorize using my credentials stored in my environment"
   ]
  },
  {
   "cell_type": "code",
   "execution_count": 25,
   "metadata": {},
   "outputs": [],
   "source": [
    "domain = 'data.mesaaz.gov'\n",
    "user_name = os.environ['MY_SOCRATA_USERNAME']\n",
    "password = os.environ['MY_SOCRATA_PASSWORD']\n",
    "\n",
    "auth = Authorization(\n",
    "  domain,\n",
    "  user_name,\n",
    "  password\n",
    ")\n",
    "\n",
    "socrata = Socrata(auth)"
   ]
  },
  {
   "cell_type": "markdown",
   "metadata": {},
   "source": [
    "### Get the source metadata"
   ]
  },
  {
   "cell_type": "code",
   "execution_count": 26,
   "metadata": {},
   "outputs": [],
   "source": [
    "response = requests.get(source_endpoint, auth=(user_name,password))"
   ]
  },
  {
   "cell_type": "code",
   "execution_count": 27,
   "metadata": {},
   "outputs": [
    {
     "name": "stdout",
     "output_type": "stream",
     "text": [
      "<Response [404]>\n"
     ]
    }
   ],
   "source": [
    "print(response)"
   ]
  },
  {
   "cell_type": "markdown",
   "metadata": {},
   "source": [
    "***\n",
    "## Use Case #3 - Use Discovery, Metadata, and SODA API calls to check for invalid dates"
   ]
  },
  {
   "cell_type": "code",
   "execution_count": 8,
   "metadata": {},
   "outputs": [],
   "source": [
    "import requests\n",
    "\n",
    "def com_get_public_dataset_count():\n",
    "    url = 'http://api.us.socrata.com/api/catalog/v1/domains?domains=data.mesaaz.gov&only=datasets'\n",
    "    response = requests.get(url)\n",
    "    return response.json().get(\"results\",[{}])[0].get(\"count\",\"\")\n",
    " "
   ]
  },
  {
   "cell_type": "code",
   "execution_count": 9,
   "metadata": {},
   "outputs": [
    {
     "name": "stdout",
     "output_type": "stream",
     "text": [
      "92\n"
     ]
    }
   ],
   "source": [
    "dataset_count = com_get_public_dataset_count()\n",
    "print(dataset_count)"
   ]
  },
  {
   "cell_type": "code",
   "execution_count": 28,
   "metadata": {},
   "outputs": [],
   "source": [
    "url = 'http://api.us.socrata.com/api/catalog/v1?domains=data.mesaaz.gov&only=datasets&limit=1'\n",
    "response = requests.get(url)\n",
    "results = response.json().get(\"results\",[{}])\n",
    "#print(results)"
   ]
  },
  {
   "cell_type": "code",
   "execution_count": 18,
   "metadata": {},
   "outputs": [
    {
     "name": "stdout",
     "output_type": "stream",
     "text": [
      "1\n"
     ]
    }
   ],
   "source": [
    "print (len(results))"
   ]
  },
  {
   "cell_type": "code",
   "execution_count": 23,
   "metadata": {},
   "outputs": [
    {
     "name": "stdout",
     "output_type": "stream",
     "text": [
      "2gkz-7z4f\n"
     ]
    }
   ],
   "source": [
    "for dataset in results:\n",
    "    #dataset_id = dataset.get('id')\n",
    "    print (dataset['resource'].get('id'))\n"
   ]
  },
  {
   "cell_type": "code",
   "execution_count": 25,
   "metadata": {},
   "outputs": [
    {
     "name": "stdout",
     "output_type": "stream",
     "text": [
      "https://data.mesaaz.gov/api/views/metadata/v1/2gkz-7z4f\n",
      "[{}]\n"
     ]
    }
   ],
   "source": [
    "for dataset in results:\n",
    "    dataset_id = dataset['resource'].get('id')\n",
    "    dataset_url = 'https://data.mesaaz.gov/api/views/metadata/v1/' + dataset_id\n",
    "    print(dataset_url)\n",
    "    dataset_response = requests.get(dataset_url)\n",
    "    dataset_results = dataset_response.json().get('result')\n",
    "    print(dataset_results)\n",
    "    "
   ]
  },
  {
   "cell_type": "code",
   "execution_count": null,
   "metadata": {},
   "outputs": [],
   "source": []
  }
 ],
 "metadata": {
  "kernelspec": {
   "display_name": "Python 3",
   "language": "python",
   "name": "python3"
  },
  "language_info": {
   "codemirror_mode": {
    "name": "ipython",
    "version": 3
   },
   "file_extension": ".py",
   "mimetype": "text/x-python",
   "name": "python",
   "nbconvert_exporter": "python",
   "pygments_lexer": "ipython3",
   "version": "3.7.1"
  }
 },
 "nbformat": 4,
 "nbformat_minor": 2
}
