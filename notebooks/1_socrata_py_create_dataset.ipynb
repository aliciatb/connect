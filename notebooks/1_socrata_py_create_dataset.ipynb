{
 "cells": [
  {
   "cell_type": "markdown",
   "metadata": {},
   "source": [
    "# Exercise 1. Socrata-Py\n",
    "## Create a Dataset\n",
    "Let's use [Socrata-py](https://github.com/socrata/socrata-py) to create a dataset from a CSV.\n",
    "\n",
    "### Import Libraries"
   ]
  },
  {
   "cell_type": "code",
   "execution_count": 2,
   "metadata": {},
   "outputs": [],
   "source": [
    "import os\n",
    "import pandas as pd\n",
    "\n",
    "from socrata.authorization import Authorization\n",
    "from socrata import Socrata"
   ]
  },
  {
   "cell_type": "markdown",
   "metadata": {},
   "source": [
    "## Setup Authentication\n",
    "### Enter Education Credentials\n",
    "\n",
    "Also, it is pow possible to set up API Keys and pass key id and secret values as Socrata user name and password or [api keys](https://socrataapikeys.docs.apiary.io) respectively"
   ]
  },
  {
   "cell_type": "code",
   "execution_count": 18,
   "metadata": {},
   "outputs": [],
   "source": [
    "domain = 'macondointernal.demo.socrata.com'\n",
    "\n",
    "user_name = ''\n",
    "password = ''\n",
    "\n",
    "# how you would pass credentials stored in environment variables\n",
    "# user_name = os.environ['SOCRATA_KEY_ID']\n",
    "# password = os.environ['SOCRATA_KEY_SECRET']\n",
    "\n",
    "auth = Authorization(\n",
    "  domain,\n",
    "  user_name,\n",
    "  password\n",
    ")\n",
    "\n",
    "socrata = Socrata(auth)"
   ]
  },
  {
   "cell_type": "markdown",
   "metadata": {},
   "source": [
    "## Data\n",
    "- Household Median Income data for all Arizona places has been saved to `/data/census_detail_household_median_income5.csv`\n",
    "- Review the first and last 5 records\n",
    "- Note that the Census returns certain negative values when a valid estimate is not available for given variable and geography. More on that, https://census.gov/data/developers/data-sets/acs-1year/notes-on-acs-estimate-and-annotation-values.html"
   ]
  },
  {
   "cell_type": "code",
   "execution_count": 19,
   "metadata": {},
   "outputs": [
    {
     "data": {
      "text/html": [
       "<div>\n",
       "<style scoped>\n",
       "    .dataframe tbody tr th:only-of-type {\n",
       "        vertical-align: middle;\n",
       "    }\n",
       "\n",
       "    .dataframe tbody tr th {\n",
       "        vertical-align: top;\n",
       "    }\n",
       "\n",
       "    .dataframe thead th {\n",
       "        text-align: right;\n",
       "    }\n",
       "</style>\n",
       "<table border=\"1\" class=\"dataframe\">\n",
       "  <thead>\n",
       "    <tr style=\"text-align: right;\">\n",
       "      <th></th>\n",
       "      <th>name</th>\n",
       "      <th>type</th>\n",
       "      <th>variable_description</th>\n",
       "      <th>variable</th>\n",
       "      <th>value</th>\n",
       "      <th>annotation</th>\n",
       "      <th>year</th>\n",
       "      <th>date</th>\n",
       "      <th>geography_id</th>\n",
       "      <th>change_rate</th>\n",
       "    </tr>\n",
       "  </thead>\n",
       "  <tbody>\n",
       "    <tr>\n",
       "      <th>0</th>\n",
       "      <td>Aguila CDP, Arizona</td>\n",
       "      <td>place</td>\n",
       "      <td>Median Household Income</td>\n",
       "      <td>B19013_001E</td>\n",
       "      <td>33125.0</td>\n",
       "      <td>NaN</td>\n",
       "      <td>2011</td>\n",
       "      <td>2011-12-31</td>\n",
       "      <td>1600000US0400730</td>\n",
       "      <td>NaN</td>\n",
       "    </tr>\n",
       "    <tr>\n",
       "      <th>1</th>\n",
       "      <td>Ajo CDP, Arizona</td>\n",
       "      <td>place</td>\n",
       "      <td>Median Household Income</td>\n",
       "      <td>B19013_001E</td>\n",
       "      <td>25181.0</td>\n",
       "      <td>NaN</td>\n",
       "      <td>2011</td>\n",
       "      <td>2011-12-31</td>\n",
       "      <td>1600000US0400870</td>\n",
       "      <td>NaN</td>\n",
       "    </tr>\n",
       "    <tr>\n",
       "      <th>2</th>\n",
       "      <td>Ak Chin CDP, Arizona</td>\n",
       "      <td>place</td>\n",
       "      <td>Median Household Income</td>\n",
       "      <td>B19013_001E</td>\n",
       "      <td>-666666666.0</td>\n",
       "      <td>Either no sample observations or too few sampl...</td>\n",
       "      <td>2011</td>\n",
       "      <td>2011-12-31</td>\n",
       "      <td>1600000US0400940</td>\n",
       "      <td>NaN</td>\n",
       "    </tr>\n",
       "    <tr>\n",
       "      <th>3</th>\n",
       "      <td>Ak-Chin Village CDP, Arizona</td>\n",
       "      <td>place</td>\n",
       "      <td>Median Household Income</td>\n",
       "      <td>B19013_001E</td>\n",
       "      <td>33083.0</td>\n",
       "      <td>NaN</td>\n",
       "      <td>2011</td>\n",
       "      <td>2011-12-31</td>\n",
       "      <td>1600000US0401090</td>\n",
       "      <td>NaN</td>\n",
       "    </tr>\n",
       "    <tr>\n",
       "      <th>4</th>\n",
       "      <td>Alamo Lake CDP, Arizona</td>\n",
       "      <td>place</td>\n",
       "      <td>Median Household Income</td>\n",
       "      <td>B19013_001E</td>\n",
       "      <td>35938.0</td>\n",
       "      <td>NaN</td>\n",
       "      <td>2011</td>\n",
       "      <td>2011-12-31</td>\n",
       "      <td>1600000US0401170</td>\n",
       "      <td>NaN</td>\n",
       "    </tr>\n",
       "  </tbody>\n",
       "</table>\n",
       "</div>"
      ],
      "text/plain": [
       "                           name   type     variable_description     variable  \\\n",
       "0           Aguila CDP, Arizona  place  Median Household Income  B19013_001E   \n",
       "1              Ajo CDP, Arizona  place  Median Household Income  B19013_001E   \n",
       "2          Ak Chin CDP, Arizona  place  Median Household Income  B19013_001E   \n",
       "3  Ak-Chin Village CDP, Arizona  place  Median Household Income  B19013_001E   \n",
       "4       Alamo Lake CDP, Arizona  place  Median Household Income  B19013_001E   \n",
       "\n",
       "         value                                         annotation  year  \\\n",
       "0      33125.0                                                NaN  2011   \n",
       "1      25181.0                                                NaN  2011   \n",
       "2 -666666666.0  Either no sample observations or too few sampl...  2011   \n",
       "3      33083.0                                                NaN  2011   \n",
       "4      35938.0                                                NaN  2011   \n",
       "\n",
       "         date      geography_id  change_rate  \n",
       "0  2011-12-31  1600000US0400730          NaN  \n",
       "1  2011-12-31  1600000US0400870          NaN  \n",
       "2  2011-12-31  1600000US0400940          NaN  \n",
       "3  2011-12-31  1600000US0401090          NaN  \n",
       "4  2011-12-31  1600000US0401170          NaN  "
      ]
     },
     "execution_count": 19,
     "metadata": {},
     "output_type": "execute_result"
    }
   ],
   "source": [
    "dataset_name = 'Arizona Places Median Household Income'\n",
    "dataset_description = 'source = file'\n",
    "file_name = '../data/census_detail_household_median_income5.csv'\n",
    "data = pd.read_csv(file_name)\n",
    "\n",
    "# View first 5 records\n",
    "data.head()"
   ]
  },
  {
   "cell_type": "code",
   "execution_count": 20,
   "metadata": {},
   "outputs": [
    {
     "data": {
      "text/html": [
       "<div>\n",
       "<style scoped>\n",
       "    .dataframe tbody tr th:only-of-type {\n",
       "        vertical-align: middle;\n",
       "    }\n",
       "\n",
       "    .dataframe tbody tr th {\n",
       "        vertical-align: top;\n",
       "    }\n",
       "\n",
       "    .dataframe thead th {\n",
       "        text-align: right;\n",
       "    }\n",
       "</style>\n",
       "<table border=\"1\" class=\"dataframe\">\n",
       "  <thead>\n",
       "    <tr style=\"text-align: right;\">\n",
       "      <th></th>\n",
       "      <th>name</th>\n",
       "      <th>type</th>\n",
       "      <th>variable_description</th>\n",
       "      <th>variable</th>\n",
       "      <th>value</th>\n",
       "      <th>annotation</th>\n",
       "      <th>year</th>\n",
       "      <th>date</th>\n",
       "      <th>geography_id</th>\n",
       "      <th>change_rate</th>\n",
       "    </tr>\n",
       "  </thead>\n",
       "  <tbody>\n",
       "    <tr>\n",
       "      <th>3152</th>\n",
       "      <td>Scenic CDP, Arizona</td>\n",
       "      <td>place</td>\n",
       "      <td>Median Household Income</td>\n",
       "      <td>B19013_001E</td>\n",
       "      <td>37174.0</td>\n",
       "      <td>NaN</td>\n",
       "      <td>2017</td>\n",
       "      <td>2017-12-31</td>\n",
       "      <td>1600000US0464650</td>\n",
       "      <td>-1.471310e+01</td>\n",
       "    </tr>\n",
       "    <tr>\n",
       "      <th>3153</th>\n",
       "      <td>Hackberry CDP, Arizona</td>\n",
       "      <td>place</td>\n",
       "      <td>Median Household Income</td>\n",
       "      <td>B19013_001E</td>\n",
       "      <td>46985.0</td>\n",
       "      <td>NaN</td>\n",
       "      <td>2017</td>\n",
       "      <td>2017-12-31</td>\n",
       "      <td>1600000US0430830</td>\n",
       "      <td>3.216098e+00</td>\n",
       "    </tr>\n",
       "    <tr>\n",
       "      <th>3154</th>\n",
       "      <td>Katherine CDP, Arizona</td>\n",
       "      <td>place</td>\n",
       "      <td>Median Household Income</td>\n",
       "      <td>B19013_001E</td>\n",
       "      <td>32857.0</td>\n",
       "      <td>NaN</td>\n",
       "      <td>2017</td>\n",
       "      <td>2017-12-31</td>\n",
       "      <td>1600000US0436920</td>\n",
       "      <td>-8.090566e-01</td>\n",
       "    </tr>\n",
       "    <tr>\n",
       "      <th>3155</th>\n",
       "      <td>Wikieup CDP, Arizona</td>\n",
       "      <td>place</td>\n",
       "      <td>Median Household Income</td>\n",
       "      <td>B19013_001E</td>\n",
       "      <td>-666666666.0</td>\n",
       "      <td>Either no sample observations or too few sampl...</td>\n",
       "      <td>2017</td>\n",
       "      <td>2017-12-31</td>\n",
       "      <td>1600000US0482880</td>\n",
       "      <td>-1.741608e+06</td>\n",
       "    </tr>\n",
       "    <tr>\n",
       "      <th>3156</th>\n",
       "      <td>Lazy Y U CDP, Arizona</td>\n",
       "      <td>place</td>\n",
       "      <td>Median Household Income</td>\n",
       "      <td>B19013_001E</td>\n",
       "      <td>126532.0</td>\n",
       "      <td>NaN</td>\n",
       "      <td>2017</td>\n",
       "      <td>2017-12-31</td>\n",
       "      <td>1600000US0440400</td>\n",
       "      <td>2.739570e+00</td>\n",
       "    </tr>\n",
       "  </tbody>\n",
       "</table>\n",
       "</div>"
      ],
      "text/plain": [
       "                        name   type     variable_description     variable  \\\n",
       "3152     Scenic CDP, Arizona  place  Median Household Income  B19013_001E   \n",
       "3153  Hackberry CDP, Arizona  place  Median Household Income  B19013_001E   \n",
       "3154  Katherine CDP, Arizona  place  Median Household Income  B19013_001E   \n",
       "3155    Wikieup CDP, Arizona  place  Median Household Income  B19013_001E   \n",
       "3156   Lazy Y U CDP, Arizona  place  Median Household Income  B19013_001E   \n",
       "\n",
       "            value                                         annotation  year  \\\n",
       "3152      37174.0                                                NaN  2017   \n",
       "3153      46985.0                                                NaN  2017   \n",
       "3154      32857.0                                                NaN  2017   \n",
       "3155 -666666666.0  Either no sample observations or too few sampl...  2017   \n",
       "3156     126532.0                                                NaN  2017   \n",
       "\n",
       "            date      geography_id   change_rate  \n",
       "3152  2017-12-31  1600000US0464650 -1.471310e+01  \n",
       "3153  2017-12-31  1600000US0430830  3.216098e+00  \n",
       "3154  2017-12-31  1600000US0436920 -8.090566e-01  \n",
       "3155  2017-12-31  1600000US0482880 -1.741608e+06  \n",
       "3156  2017-12-31  1600000US0440400  2.739570e+00  "
      ]
     },
     "execution_count": 20,
     "metadata": {},
     "output_type": "execute_result"
    }
   ],
   "source": [
    "# View last 5 records to check that we have most recent 2017 data\n",
    "data.tail()"
   ]
  },
  {
   "cell_type": "markdown",
   "metadata": {},
   "source": [
    "## Publish dataset directly from the file\n",
    "- Provide a name for dataset (minimum requirement)\n",
    "- Set description as `source = file`"
   ]
  },
  {
   "cell_type": "code",
   "execution_count": 21,
   "metadata": {},
   "outputs": [
    {
     "name": "stdout",
     "output_type": "stream",
     "text": [
      "https://macondointernal.demo.socrata.com/d/cfvy-xet3\n"
     ]
    }
   ],
   "source": [
    "with open(file_name, 'rb') as file:\n",
    "# Upload + Transform step\n",
    "\n",
    "    # revision is the *change* to the view in the catalog, which has not yet been applied.\n",
    "    # output is the OutputSchema, which is a change to data which can be applied via the revision\n",
    "    (revision, output) = Socrata(auth).create(\n",
    "        name = dataset_name,\n",
    "        description = dataset_description\n",
    "    ).csv(file)\n",
    "\n",
    "# Apply the revision - this will make it public and available to make\n",
    "# visualizations from\n",
    "(ok, job) = revision.apply(output_schema = output)\n",
    "\n",
    "# Now we can get the unique dataset id\n",
    "dataset_id = revision.view_id()\n",
    "dataset_url = 'https://' + domain + '/d/' + dataset_id\n",
    "\n",
    "print(dataset_url)"
   ]
  },
  {
   "cell_type": "markdown",
   "metadata": {},
   "source": [
    "## Publish dataset directly from the Pandas dataframe\n",
    "- Keep the same dataset name\n",
    "- Set description as `source = pandas`\n",
    "- Set any infinite values that may exist in `change_rate` to NA\n",
    "- Set NaNs to blanks"
   ]
  },
  {
   "cell_type": "code",
   "execution_count": 12,
   "metadata": {},
   "outputs": [
    {
     "name": "stdout",
     "output_type": "stream",
     "text": [
      "https://macondointernal.demo.socrata.com/d/nump-7qcy\n"
     ]
    }
   ],
   "source": [
    "pd.options.mode.use_inf_as_na = True\n",
    "data = data.fillna('')\n",
    "\n",
    "dataset_description = 'source = pandas'\n",
    "\n",
    "(revision, output) = Socrata(auth).create(\n",
    "    name = dataset_name,\n",
    "    description = dataset_description\n",
    ").df(data)\n",
    "\n",
    "# Apply the revision - this will make it public and available to make\n",
    "# visualizations from\n",
    "(ok, job) = revision.apply(output_schema = output)\n",
    "\n",
    "# Now we can get the unique dataset id\n",
    "dataset_id = revision.view_id()\n",
    "dataset_url = 'https://' + domain + '/d/' + dataset_id\n",
    "\n",
    "print(dataset_url)"
   ]
  },
  {
   "cell_type": "markdown",
   "metadata": {},
   "source": [
    "## Make dataset private\n",
    "Create a revision, https://github.com/socrata/socrata-py#revisions and set the dataset to private"
   ]
  },
  {
   "cell_type": "code",
   "execution_count": 24,
   "metadata": {},
   "outputs": [
    {
     "data": {
      "text/plain": [
       "(True, Job({'created_at': '2019-04-08T00:37:36.471155Z',\n",
       "  'created_by': {'display_name': 'Student 1',\n",
       "                 'email': '1@socrata.edu',\n",
       "                 'user_id': '2wgn-e7yp'},\n",
       "  'finished_at': None,\n",
       "  'id': 365657,\n",
       "  'is_edit': True,\n",
       "  'job_uuid': 'edacd434-f69f-4300-98f5-7eef875c4403',\n",
       "  'log': [],\n",
       "  'output_schema_id': None,\n",
       "  'request_id': '4e316b75e78ddf5673e8a01b017ffddb',\n",
       "  'status': 'initializing',\n",
       "  'updated_at': '2019-04-08T00:37:36.471166Z'}))"
      ]
     },
     "execution_count": 24,
     "metadata": {},
     "output_type": "execute_result"
    }
   ],
   "source": [
    "# make it private\n",
    "permission = 'private'\n",
    "\n",
    "(ok, view) = socrata.views.lookup(dataset_id)\n",
    "assert ok, view\n",
    "\n",
    "(ok, revision) = view.revisions.create_update_revision(metadata = {\n",
    "        'name': dataset_name,\n",
    "        'description': dataset_description\n",
    "    },permission = permission)\n",
    "\n",
    "assert ok, revision\n",
    "revision.apply()"
   ]
  },
  {
   "cell_type": "markdown",
   "metadata": {},
   "source": [
    "## Add a Transformation\n",
    "Let's make Geography Type `Title Case` rather than loser case, https://github.com/socrata/socrata-py#transforming-your-data) for our dataset"
   ]
  },
  {
   "cell_type": "code",
   "execution_count": 25,
   "metadata": {},
   "outputs": [
    {
     "data": {
      "text/plain": [
       "(True, Job({'created_at': '2019-04-08T00:37:48.157281Z',\n",
       "  'created_by': {'display_name': 'Student 1',\n",
       "                 'email': '1@socrata.edu',\n",
       "                 'user_id': '2wgn-e7yp'},\n",
       "  'finished_at': None,\n",
       "  'id': 365658,\n",
       "  'is_edit': True,\n",
       "  'job_uuid': 'b846b4a9-f03c-4453-9dda-904c9e4e1684',\n",
       "  'log': [],\n",
       "  'output_schema_id': 579364,\n",
       "  'request_id': '7d98a3fcdbdb05d4c8f1619e29123bfd',\n",
       "  'status': 'initializing',\n",
       "  'updated_at': '2019-04-08T00:37:48.157291Z'}))"
      ]
     },
     "execution_count": 25,
     "metadata": {},
     "output_type": "execute_result"
    }
   ],
   "source": [
    "# look up dataset\n",
    "(ok, view) = socrata.views.lookup(dataset_id)\n",
    "assert ok, view\n",
    "\n",
    "(ok, revision) = view.revisions.create_replace_revision()\n",
    "assert ok, revision\n",
    "\n",
    "(ok, source) = revision.source_from_dataset()\n",
    "assert ok, source\n",
    "\n",
    "output_schema = source.get_latest_input_schema().get_latest_output_schema()\n",
    "\n",
    "# use \n",
    "(ok, new_output_schema) = output_schema\\\n",
    "    .change_column_transform('type').to('title_case(`type`)').run()\n",
    "\n",
    "revision.apply(output_schema = new_output_schema)"
   ]
  },
  {
   "cell_type": "markdown",
   "metadata": {},
   "source": [
    "## Add Descriptive Names and Descriptions to Columns\n",
    "Make metadata revision, https://github.com/socrata/socrata-py#metadata-only-revisions"
   ]
  },
  {
   "cell_type": "code",
   "execution_count": null,
   "metadata": {},
   "outputs": [],
   "source": [
    "(ok, view) = socrata.views.lookup(dataset_id)\n",
    "assert ok, view\n",
    "\n",
    "(ok, revision) = view.revisions.create_replace_revision()\n",
    "assert ok, revision\n",
    "\n",
    "(ok, source) = revision.source_from_dataset()\n",
    "assert ok, source\n",
    "\n",
    "output_schema = source.get_latest_input_schema().get_latest_output_schema()\n",
    "(ok, new_output_schema) = output_schema\\\n",
    "    .change_column_metadata('name', 'display_name').to('Name')\\\n",
    "    .change_column_metadata('name', 'description').to('Geography name')\\\n",
    "    .change_column_metadata('type', 'display_name').to('Type')\\\n",
    "    .change_column_metadata('type', 'description').to('Census geography type')\\\n",
    "    .change_column_metadata('variable_description', 'display_name').to('Variable Description')\\\n",
    "    .change_column_metadata('variable_description', 'description').to('Census variable description')\\\n",
    "    .change_column_metadata('variable', 'display_name').to('Variable')\\\n",
    "    .change_column_metadata('variable', 'description').to('Census variable id')\\\n",
    "    .change_column_metadata('value', 'display_name').to('Value')\\\n",
    "    .change_column_metadata('value', 'description').to('Estimate value')\\\n",
    "    .change_column_metadata('annotation', 'display_name').to('Annotation')\\\n",
    "    .change_column_metadata('annotation', 'description').to('Census notes on statistial exceptions that occurred for a given year, variable and geography')\\\n",
    "    .change_column_metadata('year', 'display_name').to('Year')\\\n",
    "    .change_column_metadata('year', 'description').to('Survey Year')\\\n",
    "    .change_column_metadata('date', 'display_name').to('Date')\\\n",
    "    .change_column_metadata('date', 'description').to('Survey Estimate Year date')\\\n",
    "    .change_column_metadata('geography_id', 'display_name').to('Geography ID')\\\n",
    "    .change_column_metadata('geography_id', 'description').to('Unique Census geographic identifier')\\\n",
    "    .change_column_metadata('change_rate', 'display_name').to('Change Rate')\\\n",
    "    .change_column_metadata('change_rate', 'description').to('Rate of change from prior year')\\\n",
    "    .run()\n",
    "assert ok, new_output_schema\n",
    "\n",
    "revision.apply(output_schema = new_output_schema)"
   ]
  }
 ],
 "metadata": {
  "kernelspec": {
   "display_name": "Python 3",
   "language": "python",
   "name": "python3"
  },
  "language_info": {
   "codemirror_mode": {
    "name": "ipython",
    "version": 3
   },
   "file_extension": ".py",
   "mimetype": "text/x-python",
   "name": "python",
   "nbconvert_exporter": "python",
   "pygments_lexer": "ipython3",
   "version": "3.7.0"
  }
 },
 "nbformat": 4,
 "nbformat_minor": 2
}
