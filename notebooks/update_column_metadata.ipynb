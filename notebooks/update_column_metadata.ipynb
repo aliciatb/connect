{
 "cells": [
  {
   "cell_type": "markdown",
   "metadata": {},
   "source": [
    "## Exercise 3. Update Column Level Metadata on a Dataset\n",
    "Let's use [Socrata-py](https://github.com/socrata/socrata-py#metadata-only-revisions) to add descriptions to the columns of our dataset.\n",
    "\n",
    "## Import Libraries"
   ]
  },
  {
   "cell_type": "code",
   "execution_count": null,
   "metadata": {},
   "outputs": [],
   "source": [
    "import json\n",
    "import os\n",
    "import pandas as pd\n",
    "import requests\n",
    "\n",
    "from socrata.authorization import Authorization\n",
    "from socrata import Socrata"
   ]
  },
  {
   "cell_type": "markdown",
   "metadata": {},
   "source": [
    "## Setup Authentication\n",
    "- Can enter Socrata user name and password or [api keys](https://socrataapikeys.docs.apiary.io) with key id and secret values respectively\n",
    "- Enter the domain of dataset if you have publisher or admin access\n",
    "- Enter the dataset unique ID\n",
    "\n",
    "Let's update the dataset description for https://alicia.data.socrata.com/dataset/Arizona-Places-Median-Household-Income/9abs-ubh5 to something more meaningful."
   ]
  },
  {
   "cell_type": "code",
   "execution_count": 17,
   "metadata": {},
   "outputs": [],
   "source": [
    "# replace environmement variables with your credentials on lab machines\n",
    "domain = 'alicia.data.socrata.com'\n",
    "user_name = os.environ['SOCRATA_KEY_ID']\n",
    "password = os.environ['SOCRATA_KEY_SECRET']\n",
    "\n",
    "auth = Authorization(\n",
    "  domain,\n",
    "  user_name,\n",
    "  password\n",
    ")\n",
    "\n",
    "socrata = Socrata(auth)"
   ]
  },
  {
   "cell_type": "markdown",
   "metadata": {},
   "source": [
    "## Update Name and Descriptions"
   ]
  },
  {
   "cell_type": "code",
   "execution_count": null,
   "metadata": {},
   "outputs": [],
   "source": [
    "dataset_id = '9abs-ubh5'\n",
    "\n",
    "(ok, view) = socrata.views.lookup(dataset_id)\n",
    "assert ok, view\n",
    "\n",
    "(ok, revision) = view.revisions.create_replace_revision()\n",
    "assert ok, revision\n",
    "\n",
    "(ok, source) = revision.source_from_dataset()\n",
    "assert ok, source\n",
    "\n",
    "output_schema = source.get_latest_input_schema().get_latest_output_schema()\n",
    "(ok, new_output_schema) = output_schema\\\n",
    "    .change_column_metadata('name', 'display_name').to('Name')\\\n",
    "    .change_column_metadata('name', 'description').to('Geography name')\\\n",
    "    .change_column_metadata('type', 'display_name').to('Type')\\\n",
    "    .change_column_metadata('type', 'description').to('Census geography type')\\\n",
    "    .change_column_metadata('variable_description', 'display_name').to('Variable Description')\\\n",
    "    .change_column_metadata('variable_description', 'description').to('Census variable description')\\\n",
    "    .change_column_metadata('variable', 'display_name').to('Variable')\\\n",
    "    .change_column_metadata('variable', 'description').to('Census variable id')\\\n",
    "    .change_column_metadata('value', 'display_name').to('Value')\\\n",
    "    .change_column_metadata('value', 'description').to('Estimate value')\\\n",
    "    .change_column_metadata('annotation', 'display_name').to('Annotation')\\\n",
    "    .change_column_metadata('annotation', 'description').to('Census notes on statistial exceptions that occurred for a given year, variable and geography')\\\n",
    "    .change_column_metadata('year', 'display_name').to('Year')\\\n",
    "    .change_column_metadata('year', 'description').to('Survey Year')\\\n",
    "    .change_column_metadata('date', 'display_name').to('Date')\\\n",
    "    .change_column_metadata('date', 'description').to('Survey Estimate Year date')\\\n",
    "    .change_column_metadata('geography_id', 'display_name').to('Geography ID')\\\n",
    "    .change_column_metadata('geography_id', 'description').to('Unique Census geographic identifier')\\\n",
    "    .change_column_metadata('change_rate', 'display_name').to('Change Rate')\\\n",
    "    .change_column_metadata('change_rate', 'description').to('Rate of change from prior year')\\\n",
    "    .run()\n",
    "assert ok, new_output_schema\n",
    "\n",
    "revision.apply(output_schema = new_output_schema)"
   ]
  }
 ],
 "metadata": {
  "kernelspec": {
   "display_name": "Python 3",
   "language": "python",
   "name": "python3"
  },
  "language_info": {
   "codemirror_mode": {
    "name": "ipython",
    "version": 3
   },
   "file_extension": ".py",
   "mimetype": "text/x-python",
   "name": "python",
   "nbconvert_exporter": "python",
   "pygments_lexer": "ipython3",
   "version": "3.7.0"
  }
 },
 "nbformat": 4,
 "nbformat_minor": 2
}
