{
 "cells": [
  {
   "cell_type": "markdown",
   "metadata": {},
   "source": [
    "## Excercise 2. Update Metadata on a Dataset\n",
    "Let's use the [Metadata API](https://socratametadataapi.docs.apiary.io/#) to add more information to our dataset.\n",
    "\n",
    "## Import Libraries"
   ]
  },
  {
   "cell_type": "code",
   "execution_count": 2,
   "metadata": {},
   "outputs": [],
   "source": [
    "import os\n",
    "import json\n",
    "import requests"
   ]
  },
  {
   "cell_type": "markdown",
   "metadata": {},
   "source": [
    "## Setup Authentication\n",
    "- Can enter Socrata user name and password or api keys with key id and secret values respectively\n",
    "- Enter the domain of dataset if you have publisher or admin access\n",
    "- Enter the dataset unique ID\n",
    "\n",
    "Let's update the dataset description for https://alicia.data.socrata.com/dataset/Arizona-Places-Median-Household-Income/9abs-ubh5 to something more meaningful."
   ]
  },
  {
   "cell_type": "code",
   "execution_count": 3,
   "metadata": {},
   "outputs": [],
   "source": [
    "user_name = os.environ['MY_SOCRATA_USERNAME']\n",
    "password = os.environ['MY_SOCRATA_PASSWORD']\n",
    "domain = 'alicia.data.socrata.com'\n",
    "dataset_id = '9abs-ubh5'\n",
    "\n",
    "# URL to metadata for any asset\n",
    "meta_url = 'https://' + domain + '/api/views/metadata/v1/' + dataset_id\n",
    "\n",
    "dataset_description = 'Median Household Income - American Community Survey 5 Year Estimates for all Arizona Places from 2011-2017'"
   ]
  },
  {
   "cell_type": "markdown",
   "metadata": {},
   "source": [
    "## Make HTTP request for existing metadata\n",
    "- Include authentication because dataset is private by default"
   ]
  },
  {
   "cell_type": "code",
   "execution_count": 5,
   "metadata": {},
   "outputs": [
    {
     "name": "stdout",
     "output_type": "stream",
     "text": [
      "{\n",
      "  \"id\" : \"9abs-ubh5\",\n",
      "  \"name\" : \"Arizona Places Median Household Income\",\n",
      "  \"attribution\" : null,\n",
      "  \"attributionLink\" : null,\n",
      "  \"category\" : null,\n",
      "  \"createdAt\" : \"2019-02-20T00:22:21+0000\",\n",
      "  \"dataUpdatedAt\" : \"2019-02-20T00:22:38+0000\",\n",
      "  \"dataUri\" : \"https://alicia.data.socrata.com/resource/9abs-ubh5\",\n",
      "  \"description\" : \"source = file\",\n",
      "  \"domain\" : \"alicia.data.socrata.com\",\n",
      "  \"externalId\" : null,\n",
      "  \"hideFromCatalog\" : false,\n",
      "  \"hideFromDataJson\" : false,\n",
      "  \"license\" : null,\n",
      "  \"metadataUpdatedAt\" : \"2019-02-20T00:22:39+0000\",\n",
      "  \"provenance\" : \"OFFICIAL\",\n",
      "  \"updatedAt\" : \"2019-02-20T00:22:39+0000\",\n",
      "  \"webUri\" : \"https://alicia.data.socrata.com/d/9abs-ubh5\",\n",
      "  \"customFields\" : null,\n",
      "  \"tags\" : null\n",
      "}\n",
      "\n"
     ]
    }
   ],
   "source": [
    "req = requests.get(meta_url, auth=(user_name,password))\n",
    "\n",
    "meta = req.text\n",
    "print(meta)"
   ]
  },
  {
   "cell_type": "markdown",
   "metadata": {},
   "source": [
    "## Make HTTP Patch request to update dataset description"
   ]
  },
  {
   "cell_type": "code",
   "execution_count": 6,
   "metadata": {},
   "outputs": [
    {
     "name": "stdout",
     "output_type": "stream",
     "text": [
      "{\n",
      "  \"action\" : \"modify\",\n",
      "  \"metadata\" : {\n",
      "    \"id\" : \"9abs-ubh5\",\n",
      "    \"name\" : \"Arizona Places Median Household Income\",\n",
      "    \"attribution\" : null,\n",
      "    \"attributionLink\" : null,\n",
      "    \"category\" : null,\n",
      "    \"createdAt\" : \"2019-02-20T00:22:21+0000\",\n",
      "    \"dataUpdatedAt\" : \"2019-02-20T00:22:38+0000\",\n",
      "    \"dataUri\" : \"https://alicia.data.socrata.com/resource/9abs-ubh5\",\n",
      "    \"description\" : \"Median Household Income - American Community Survey 5 Year Estimates for all Arizona Places from 2011-2017\",\n",
      "    \"domain\" : \"alicia.data.socrata.com\",\n",
      "    \"externalId\" : null,\n",
      "    \"hideFromCatalog\" : false,\n",
      "    \"hideFromDataJson\" : false,\n",
      "    \"license\" : null,\n",
      "    \"metadataUpdatedAt\" : \"2019-02-20T00:33:26+0000\",\n",
      "    \"provenance\" : \"OFFICIAL\",\n",
      "    \"updatedAt\" : \"2019-02-20T00:33:26+0000\",\n",
      "    \"webUri\" : \"https://alicia.data.socrata.com/d/9abs-ubh5\",\n",
      "    \"customFields\" : null,\n",
      "    \"tags\" : null\n",
      "  }\n",
      "}\n",
      "\n"
     ]
    }
   ],
   "source": [
    "# update Description using Patch method which allows updates for selected properties\n",
    "payload = {\"description\": dataset_description}\n",
    "json_data = json.dumps(payload)\n",
    "\n",
    "req_update = requests.patch(meta_url, json_data, auth=(user_name,password))\n",
    "meta_new = req_update.text\n",
    "print(meta_new)"
   ]
  },
  {
   "cell_type": "code",
   "execution_count": null,
   "metadata": {},
   "outputs": [],
   "source": []
  }
 ],
 "metadata": {
  "kernelspec": {
   "display_name": "Python 3",
   "language": "python",
   "name": "python3"
  },
  "language_info": {
   "codemirror_mode": {
    "name": "ipython",
    "version": 3
   },
   "file_extension": ".py",
   "mimetype": "text/x-python",
   "name": "python",
   "nbconvert_exporter": "python",
   "pygments_lexer": "ipython3",
   "version": "3.7.0"
  }
 },
 "nbformat": 4,
 "nbformat_minor": 2
}
