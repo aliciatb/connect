{
 "cells": [
  {
   "cell_type": "markdown",
   "metadata": {},
   "source": [
    "## Exercise 2. Update Metadata on a Dataset\n",
    "Let's use the [Metadata API](https://socratametadataapi.docs.apiary.io/#) to add more information to our dataset.\n",
    "\n",
    "## Import Libraries"
   ]
  },
  {
   "cell_type": "code",
   "execution_count": 129,
   "metadata": {},
   "outputs": [],
   "source": [
    "import json\n",
    "import os\n",
    "import pandas as pd\n",
    "import requests"
   ]
  },
  {
   "cell_type": "markdown",
   "metadata": {},
   "source": [
    "## Setup Authentication\n",
    "- Can enter Socrata user name and password or api keys with key id and secret values respectively\n",
    "- Enter the domain of dataset if you have publisher or admin access\n",
    "- Enter the dataset unique ID\n",
    "\n",
    "Let's update the dataset description for https://alicia.data.socrata.com/dataset/Arizona-Places-Median-Household-Income/9abs-ubh5 to something more meaningful."
   ]
  },
  {
   "cell_type": "code",
   "execution_count": 130,
   "metadata": {},
   "outputs": [],
   "source": [
    "user_name = os.environ['MY_SOCRATA_USERNAME']\n",
    "password = os.environ['MY_SOCRATA_PASSWORD']\n",
    "domain = 'alicia.data.socrata.com'\n",
    "dataset_id = '9abs-ubh5'\n",
    "\n",
    "# URL to metadata for any asset\n",
    "meta_url = 'https://' + domain + '/api/views/metadata/v1/' + dataset_id\n",
    "\n",
    "dataset_description = 'Median Household Income - American Community Survey 5 Year Estimates for all Arizona Places from 2011-2017'"
   ]
  },
  {
   "cell_type": "markdown",
   "metadata": {},
   "source": [
    "## Make HTTP request for existing metadata\n",
    "- Include authentication because dataset is private by default"
   ]
  },
  {
   "cell_type": "code",
   "execution_count": 131,
   "metadata": {},
   "outputs": [
    {
     "name": "stdout",
     "output_type": "stream",
     "text": [
      "{\n",
      "  \"id\" : \"9abs-ubh5\",\n",
      "  \"name\" : \"Arizona Places Median Household Income\",\n",
      "  \"attribution\" : \"Census\",\n",
      "  \"attributionLink\" : \"https://www.census.gov/programs-surveys/acs/\",\n",
      "  \"category\" : \"Demographics\",\n",
      "  \"createdAt\" : \"2019-02-20T00:22:21+0000\",\n",
      "  \"dataUpdatedAt\" : \"2019-02-20T00:22:38+0000\",\n",
      "  \"dataUri\" : \"https://alicia.data.socrata.com/resource/9abs-ubh5\",\n",
      "  \"description\" : \"Median Household Income - American Community Survey 5 Year Estimates for all Arizona Places from 2011-2017\",\n",
      "  \"domain\" : \"alicia.data.socrata.com\",\n",
      "  \"externalId\" : null,\n",
      "  \"hideFromCatalog\" : false,\n",
      "  \"hideFromDataJson\" : false,\n",
      "  \"license\" : null,\n",
      "  \"metadataUpdatedAt\" : \"2019-02-20T02:59:03+0000\",\n",
      "  \"provenance\" : \"OFFICIAL\",\n",
      "  \"updatedAt\" : \"2019-02-20T02:59:03+0000\",\n",
      "  \"webUri\" : \"https://alicia.data.socrata.com/d/9abs-ubh5\",\n",
      "  \"customFields\" : null,\n",
      "  \"tags\" : null\n",
      "}\n",
      "\n"
     ]
    }
   ],
   "source": [
    "req = requests.get(meta_url, auth=(user_name,password))\n",
    "\n",
    "meta = req.text\n",
    "print(meta)"
   ]
  },
  {
   "cell_type": "markdown",
   "metadata": {},
   "source": [
    "## Make HTTP Patch request to update dataset description\n",
    "- Create the JSON and encode it"
   ]
  },
  {
   "cell_type": "code",
   "execution_count": 132,
   "metadata": {},
   "outputs": [
    {
     "name": "stdout",
     "output_type": "stream",
     "text": [
      "{\n",
      "  \"action\" : \"modify\",\n",
      "  \"metadata\" : {\n",
      "    \"id\" : \"9abs-ubh5\",\n",
      "    \"name\" : \"Arizona Places Median Household Income\",\n",
      "    \"attribution\" : \"Census\",\n",
      "    \"attributionLink\" : \"https://www.census.gov/programs-surveys/acs/\",\n",
      "    \"category\" : \"Demographics\",\n",
      "    \"createdAt\" : \"2019-02-20T00:22:21+0000\",\n",
      "    \"dataUpdatedAt\" : \"2019-02-20T00:22:38+0000\",\n",
      "    \"dataUri\" : \"https://alicia.data.socrata.com/resource/9abs-ubh5\",\n",
      "    \"description\" : \"Median Household Income - American Community Survey 5 Year Estimates for all Arizona Places from 2011-2017\",\n",
      "    \"domain\" : \"alicia.data.socrata.com\",\n",
      "    \"externalId\" : null,\n",
      "    \"hideFromCatalog\" : false,\n",
      "    \"hideFromDataJson\" : false,\n",
      "    \"license\" : null,\n",
      "    \"metadataUpdatedAt\" : \"2019-02-20T02:59:15+0000\",\n",
      "    \"provenance\" : \"OFFICIAL\",\n",
      "    \"updatedAt\" : \"2019-02-20T02:59:15+0000\",\n",
      "    \"webUri\" : \"https://alicia.data.socrata.com/d/9abs-ubh5\",\n",
      "    \"customFields\" : null,\n",
      "    \"tags\" : null\n",
      "  }\n",
      "}\n",
      "\n"
     ]
    }
   ],
   "source": [
    "# update Description using Patch method which allows updates for selected properties\n",
    "payload = {\"description\": dataset_description}\n",
    "json_data = json.dumps(payload)\n",
    "\n",
    "req_update = requests.patch(meta_url, json_data, auth=(user_name,password))\n",
    "meta_new = req_update.text\n",
    "print(meta_new)"
   ]
  },
  {
   "attachments": {},
   "cell_type": "markdown",
   "metadata": {},
   "source": [
    "## Update multiple metadata properties by iterating through a file\n",
    "- `/data/dataset_metadata.xlsx` contains dataset id and other metadata properties for a dataset that can be suitable  for bulk updates\n",
    "- Set NaNs to blanks\n",
    "\n",
    "Let's update https://alicia.data.socrata.com/dataset/Arizona-Places-Median-Household-Income/9abs-ubh5 with many properties."
   ]
  },
  {
   "cell_type": "code",
   "execution_count": 133,
   "metadata": {},
   "outputs": [
    {
     "data": {
      "text/html": [
       "<div>\n",
       "<style scoped>\n",
       "    .dataframe tbody tr th:only-of-type {\n",
       "        vertical-align: middle;\n",
       "    }\n",
       "\n",
       "    .dataframe tbody tr th {\n",
       "        vertical-align: top;\n",
       "    }\n",
       "\n",
       "    .dataframe thead th {\n",
       "        text-align: right;\n",
       "    }\n",
       "</style>\n",
       "<table border=\"1\" class=\"dataframe\">\n",
       "  <thead>\n",
       "    <tr style=\"text-align: right;\">\n",
       "      <th></th>\n",
       "      <th>dataset_id</th>\n",
       "      <th>name</th>\n",
       "      <th>category</th>\n",
       "      <th>description</th>\n",
       "      <th>attribution</th>\n",
       "      <th>attributionLink</th>\n",
       "      <th>tags</th>\n",
       "    </tr>\n",
       "  </thead>\n",
       "  <tbody>\n",
       "    <tr>\n",
       "      <th>0</th>\n",
       "      <td>9abs-ubh5</td>\n",
       "      <td>Arizona Places Median Household Income</td>\n",
       "      <td>Demographics</td>\n",
       "      <td>Median Household Income - American Community S...</td>\n",
       "      <td>Census</td>\n",
       "      <td>https://www.census.gov/programs-surveys/acs/</td>\n",
       "      <td></td>\n",
       "    </tr>\n",
       "    <tr>\n",
       "      <th>1</th>\n",
       "      <td>kyb6-5pf6</td>\n",
       "      <td>Arizona Places Median Household Income</td>\n",
       "      <td>Business</td>\n",
       "      <td>Median Household Income - American Community S...</td>\n",
       "      <td>Census</td>\n",
       "      <td>https://www.census.gov/programs-surveys/acs/</td>\n",
       "      <td>income</td>\n",
       "    </tr>\n",
       "    <tr>\n",
       "      <th>2</th>\n",
       "      <td>7erx-nkcf</td>\n",
       "      <td>Arizona Places Median Household Income</td>\n",
       "      <td>Demographics</td>\n",
       "      <td>Median Household Income - American Community S...</td>\n",
       "      <td></td>\n",
       "      <td></td>\n",
       "      <td>income, household income, prosperity</td>\n",
       "    </tr>\n",
       "  </tbody>\n",
       "</table>\n",
       "</div>"
      ],
      "text/plain": [
       "  dataset_id                                    name      category  \\\n",
       "0  9abs-ubh5  Arizona Places Median Household Income  Demographics   \n",
       "1  kyb6-5pf6  Arizona Places Median Household Income      Business   \n",
       "2  7erx-nkcf  Arizona Places Median Household Income  Demographics   \n",
       "\n",
       "                                         description attribution  \\\n",
       "0  Median Household Income - American Community S...      Census   \n",
       "1  Median Household Income - American Community S...      Census   \n",
       "2  Median Household Income - American Community S...               \n",
       "\n",
       "                                attributionLink  \\\n",
       "0  https://www.census.gov/programs-surveys/acs/   \n",
       "1  https://www.census.gov/programs-surveys/acs/   \n",
       "2                                                 \n",
       "\n",
       "                                   tags  \n",
       "0                                        \n",
       "1                                income  \n",
       "2  income, household income, prosperity  "
      ]
     },
     "execution_count": 133,
     "metadata": {},
     "output_type": "execute_result"
    }
   ],
   "source": [
    "metadata = pd.read_excel('../data/dataset_metadata.xlsx')\n",
    "metadata = metadata.fillna('')\n",
    "metadata.head()"
   ]
  },
  {
   "cell_type": "code",
   "execution_count": 134,
   "metadata": {},
   "outputs": [
    {
     "name": "stdout",
     "output_type": "stream",
     "text": [
      "{\n",
      "  \"action\" : \"modify\",\n",
      "  \"metadata\" : {\n",
      "    \"id\" : \"9abs-ubh5\",\n",
      "    \"name\" : \"Arizona Places Median Household Income\",\n",
      "    \"attribution\" : \"Census\",\n",
      "    \"attributionLink\" : \"https://www.census.gov/programs-surveys/acs/\",\n",
      "    \"category\" : \"Demographics\",\n",
      "    \"createdAt\" : \"2019-02-20T00:22:21+0000\",\n",
      "    \"dataUpdatedAt\" : \"2019-02-20T00:22:38+0000\",\n",
      "    \"dataUri\" : \"https://alicia.data.socrata.com/resource/9abs-ubh5\",\n",
      "    \"description\" : \"Median Household Income - American Community Survey 5 Year Estimates for all Arizona Places from 2011-2017\",\n",
      "    \"domain\" : \"alicia.data.socrata.com\",\n",
      "    \"externalId\" : null,\n",
      "    \"hideFromCatalog\" : false,\n",
      "    \"hideFromDataJson\" : false,\n",
      "    \"license\" : null,\n",
      "    \"metadataUpdatedAt\" : \"2019-02-20T02:59:15+0000\",\n",
      "    \"provenance\" : \"OFFICIAL\",\n",
      "    \"updatedAt\" : \"2019-02-20T02:59:15+0000\",\n",
      "    \"webUri\" : \"https://alicia.data.socrata.com/d/9abs-ubh5\",\n",
      "    \"customFields\" : null,\n",
      "    \"tags\" : null\n",
      "  }\n",
      "}\n",
      "\n",
      "{\n",
      "  \"action\" : \"modify\",\n",
      "  \"metadata\" : {\n",
      "    \"id\" : \"kyb6-5pf6\",\n",
      "    \"name\" : \"Arizona Places Median Household Income\",\n",
      "    \"attribution\" : null,\n",
      "    \"attributionLink\" : \"https://www.census.gov/programs-surveys/acs/\",\n",
      "    \"category\" : \"Business\",\n",
      "    \"createdAt\" : \"2019-02-20T00:22:34+0000\",\n",
      "    \"dataUpdatedAt\" : \"2019-02-20T00:22:51+0000\",\n",
      "    \"dataUri\" : \"https://alicia.data.socrata.com/resource/kyb6-5pf6\",\n",
      "    \"description\" : \"Median Household Income - American Community Survey 5 Year Estimates for all Arizona Places from 2011-2017\",\n",
      "    \"domain\" : \"alicia.data.socrata.com\",\n",
      "    \"externalId\" : null,\n",
      "    \"hideFromCatalog\" : false,\n",
      "    \"hideFromDataJson\" : false,\n",
      "    \"license\" : null,\n",
      "    \"metadataUpdatedAt\" : \"2019-02-20T02:59:16+0000\",\n",
      "    \"provenance\" : \"OFFICIAL\",\n",
      "    \"updatedAt\" : \"2019-02-20T02:59:16+0000\",\n",
      "    \"webUri\" : \"https://alicia.data.socrata.com/d/kyb6-5pf6\",\n",
      "    \"customFields\" : null,\n",
      "    \"tags\" : [ \"income\" ]\n",
      "  }\n",
      "}\n",
      "\n",
      "{\n",
      "  \"action\" : \"modify\",\n",
      "  \"metadata\" : {\n",
      "    \"id\" : \"7erx-nkcf\",\n",
      "    \"name\" : \"Arizona Places Median Household Income\",\n",
      "    \"attribution\" : null,\n",
      "    \"attributionLink\" : null,\n",
      "    \"category\" : \"Demographics\",\n",
      "    \"createdAt\" : \"2019-02-20T00:02:14+0000\",\n",
      "    \"dataUpdatedAt\" : \"2019-02-20T00:02:33+0000\",\n",
      "    \"dataUri\" : \"https://alicia.data.socrata.com/resource/7erx-nkcf\",\n",
      "    \"description\" : \"Median Household Income - American Community Survey 5 Year Estimates for all Arizona Places from 2011-2017\",\n",
      "    \"domain\" : \"alicia.data.socrata.com\",\n",
      "    \"externalId\" : null,\n",
      "    \"hideFromCatalog\" : false,\n",
      "    \"hideFromDataJson\" : false,\n",
      "    \"license\" : null,\n",
      "    \"metadataUpdatedAt\" : \"2019-02-20T02:59:17+0000\",\n",
      "    \"provenance\" : \"OFFICIAL\",\n",
      "    \"updatedAt\" : \"2019-02-20T02:59:17+0000\",\n",
      "    \"webUri\" : \"https://alicia.data.socrata.com/d/7erx-nkcf\",\n",
      "    \"customFields\" : null,\n",
      "    \"tags\" : [ \"income\", \"household income\", \"prosperity\" ]\n",
      "  }\n",
      "}\n",
      "\n"
     ]
    }
   ],
   "source": [
    "for idx,row in metadata.iterrows():\n",
    "    dataset_id = row['dataset_id']\n",
    "    meta_url = 'https://' + domain + '/api/views/metadata/v1/' + dataset_id\n",
    "    \n",
    "    payload = dict()\n",
    "    payload['name'] = row['name']\n",
    "    payload['description'] = row['description']\n",
    "    payload['category'] = row['category']\n",
    "\n",
    "    # if there are multiple keywords, split them by comma\n",
    "    if(row['tags'] != ''):\n",
    "        payload['tags'] = row['tags'].split(',')\n",
    "    else:\n",
    "        payload['tags'] = []\n",
    "    \n",
    "    # empty links return validation error\n",
    "    if(row['attributionLink']!=''):\n",
    "        payload['attributionLink'] = row['attributionLink']\n",
    "    \n",
    "    # encode json\n",
    "    json_data = json.dumps(payload)\n",
    "    # print(json_data)\n",
    "    \n",
    "    req_update = requests.patch(meta_url, json_data, auth=(user_name,password))\n",
    "    meta_new = req_update.text\n",
    "    print(meta_new)"
   ]
  }
 ],
 "metadata": {
  "kernelspec": {
   "display_name": "Python 3",
   "language": "python",
   "name": "python3"
  },
  "language_info": {
   "codemirror_mode": {
    "name": "ipython",
    "version": 3
   },
   "file_extension": ".py",
   "mimetype": "text/x-python",
   "name": "python",
   "nbconvert_exporter": "python",
   "pygments_lexer": "ipython3",
   "version": "3.7.0"
  }
 },
 "nbformat": 4,
 "nbformat_minor": 2
}
