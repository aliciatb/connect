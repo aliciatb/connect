{
 "cells": [
  {
   "cell_type": "markdown",
   "metadata": {},
   "source": [
    "## Exercise 5. Create a Dataset from GEOJSON\n",
    "Let's use [Socrata-py](https://github.com/socrata/socrata-py#geojson) to add more information to our dataset.\n",
    "\n",
    "## Import Libraries"
   ]
  },
  {
   "cell_type": "code",
   "execution_count": 32,
   "metadata": {},
   "outputs": [],
   "source": [
    "%matplotlib inline\n",
    "\n",
    "import geopandas as gpd\n",
    "import matplotlib.pyplot as plt\n",
    "import os\n",
    "import pandas as pd\n",
    "\n",
    "from shapely import geometry, wkt\n",
    "\n",
    "from socrata.authorization import Authorization\n",
    "from socrata import Socrata"
   ]
  },
  {
   "cell_type": "markdown",
   "metadata": {},
   "source": [
    "## Setup Authentication\n",
    "- Can enter Socrata user name and password or api keys with key id and secret values respectively\n",
    "- Enter the domain of dataset if you have publisher or admin access"
   ]
  },
  {
   "cell_type": "code",
   "execution_count": 33,
   "metadata": {},
   "outputs": [],
   "source": [
    "user_name = os.environ['MY_SOCRATA_USERNAME']\n",
    "password = os.environ['MY_SOCRATA_PASSWORD']\n",
    "domain = 'alicia.data.socrata.com'\n",
    "\n",
    "auth = Authorization(\n",
    "  domain,\n",
    "  user_name,\n",
    "  password\n",
    ")\n",
    "\n",
    "socrata = Socrata(auth)"
   ]
  },
  {
   "cell_type": "markdown",
   "metadata": {},
   "source": [
    "## Select Shape file to convert to GEOJSON\n",
    "Let's use the Census Cartographic Boundary file for 2017 Arizona Places downloaded from https://www.census.gov/geo/maps-data/data/cbf/cbf_place.html for Arizona (http://www2.census.gov/geo/tiger/GENZ2017/shp/cb_2017_04_place_500k.zip)"
   ]
  },
  {
   "cell_type": "code",
   "execution_count": 34,
   "metadata": {},
   "outputs": [
    {
     "name": "stdout",
     "output_type": "stream",
     "text": [
      "  STATEFP PLACEFP   PLACENS          AFFGEOID    GEOID          NAME LSAD  \\\n",
      "0      04   66820  02411898  1600000US0466820  0466820  Sierra Vista   25   \n",
      "1      04   58010  02412516  1600000US0458010  0458010    Quartzsite   43   \n",
      "2      04   54050  02411401  1600000US0454050  0454050        Peoria   25   \n",
      "3      04   74190  02412078  1600000US0474190  0474190      Tolleson   25   \n",
      "4      04   04720  02409765  1600000US0404720  0404720      Avondale   25   \n",
      "\n",
      "       ALAND   AWATER                                           geometry  \n",
      "0  394277573   678788  POLYGON ((-110.449149 31.550338, -110.447924 3...  \n",
      "1   94008865        0  POLYGON ((-114.269818 33.710637, -114.217028 3...  \n",
      "2  455061591  8825426  (POLYGON ((-112.211145 33.619523, -112.208488 ...  \n",
      "3   14943015        0  POLYGON ((-112.289902 33.449935, -112.281021 3...  \n",
      "4  117194454   186352  (POLYGON ((-112.292384 33.417304, -112.289632 ...  \n"
     ]
    },
    {
     "data": {
      "text/plain": [
       "<matplotlib.axes._subplots.AxesSubplot at 0x11cd58160>"
      ]
     },
     "execution_count": 34,
     "metadata": {},
     "output_type": "execute_result"
    },
    {
     "data": {
      "image/png": "[encoded data removed]",
      "text/plain": [
       "<Figure size 432x288 with 1 Axes>"
      ]
     },
     "metadata": {},
     "output_type": "display_data"
    }
   ],
   "source": [
    "census_cb = gpd.read_file(\"../data/cb_2017_04_place_500k/cb_2017_04_place_500k.shp\")\n",
    "print(census_cb.head())\n",
    "\n",
    "# plot the polygons!\n",
    "census_cb.plot()"
   ]
  },
  {
   "cell_type": "markdown",
   "metadata": {},
   "source": [
    "## Convert Polygons to Multipolygons"
   ]
  },
  {
   "cell_type": "code",
   "execution_count": 35,
   "metadata": {},
   "outputs": [
    {
     "name": "stderr",
     "output_type": "stream",
     "text": [
      "/usr/local/lib/python3.7/site-packages/geopandas/io/file.py:108: FionaDeprecationWarning: Use fiona.Env() instead.\n",
      "  with fiona.drivers():\n"
     ]
    }
   ],
   "source": [
    "#Handy function provided by https://github.com/geopandas/geopandas/issues/834\n",
    "upcast_dispatch = {geometry.Point: geometry.MultiPoint, \n",
    "                   geometry.LineString: geometry.MultiLineString, \n",
    "                   geometry.Polygon: geometry.MultiPolygon}\n",
    "\n",
    "def maybe_cast_to_multigeometry(geom):\n",
    "    caster = upcast_dispatch.get(type(geom), lambda x: x[0])\n",
    "    return caster([geom])\n",
    "\n",
    "census_cb.geometry = census_cb.geometry.apply(maybe_cast_to_multigeometry)\n",
    "\n",
    "file_name = '../data/cb_2017_04_place_500k.json'\n",
    "\n",
    "# Convert to GEOJSON\n",
    "census_cb.to_file(file_name, driver='GeoJSON')"
   ]
  },
  {
   "cell_type": "markdown",
   "metadata": {},
   "source": [
    "## Create dataset from GEOJSON"
   ]
  },
  {
   "cell_type": "code",
   "execution_count": 36,
   "metadata": {},
   "outputs": [
    {
     "name": "stdout",
     "output_type": "stream",
     "text": [
      "https://alicia.data.socrata.com/d/mxgp-dssj\n"
     ]
    }
   ],
   "source": [
    "dataset_name = 'Arizona Cartographic Boundary Shapefiles - Places (Incorporated Places and Census Designated Places)'\n",
    "dataset_description = 'The cartographic boundary files are simplified representations of selected geographic areas from the Census Bureau’s MAF/TIGER geographic database. These boundary files are specifically designed for small scale thematic mapping.'\n",
    "\n",
    "# This is our socrata object, using the auth variable from above\n",
    "socrata = Socrata(auth)\n",
    "\n",
    "# This will make our initial revision, on a view that doesn't yet exist\n",
    "(ok, rev) = socrata.new({'name': dataset_name, 'description': dataset_description})\n",
    "assert ok\n",
    "\n",
    "# Using that revision, we can create an upload\n",
    "(ok, upload) = rev.create_upload('foo.json')\n",
    "assert ok\n",
    "\n",
    "# And using that upload we just created, we can put bytes into it\n",
    "with open(file_name, 'rb') as f:\n",
    "        (ok, source) = upload.geojson(f)\n",
    "        assert ok\n",
    "        \n",
    "# TODO: create revision to rename geometry to the_geom\n",
    "        \n",
    "# Apply the revision - this will make it public\n",
    "(ok, job) = rev.apply()\n",
    "\n",
    "# Now we can get the unique dataset id\n",
    "dataset_id = rev.view_id()\n",
    "dataset_url = 'https://' + domain + '/d/' + dataset_id\n",
    "\n",
    "print(dataset_url)\n"
   ]
  }
 ],
 "metadata": {
  "kernelspec": {
   "display_name": "Python 3",
   "language": "python",
   "name": "python3"
  },
  "language_info": {
   "codemirror_mode": {
    "name": "ipython",
    "version": 3
   },
   "file_extension": ".py",
   "mimetype": "text/x-python",
   "name": "python",
   "nbconvert_exporter": "python",
   "pygments_lexer": "ipython3",
   "version": "3.7.0"
  }
 },
 "nbformat": 4,
 "nbformat_minor": 2
}
